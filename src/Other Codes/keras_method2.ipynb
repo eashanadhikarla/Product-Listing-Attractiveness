{
 "cells": [
  {
   "cell_type": "code",
   "execution_count": null,
   "metadata": {},
   "outputs": [],
   "source": [
    "import numpy as np\n",
    "import pandas as pd"
   ]
  },
  {
   "cell_type": "code",
   "execution_count": null,
   "metadata": {},
   "outputs": [],
   "source": [
    "train_data = pd.read_csv('/train_data.csv')\n",
    "train_labels = pd.read_csv('/train_label.csv')\n",
    "test_data = pd.read_csv('/test_data.csv')\n",
    "\n",
    "total_data = train_data.append(test_data).reset_index(drop=True)"
   ]
  },
  {
   "cell_type": "code",
   "execution_count": null,
   "metadata": {},
   "outputs": [],
   "source": [
    "total_data.head(1)"
   ]
  },
  {
   "cell_type": "code",
   "execution_count": null,
   "metadata": {},
   "outputs": [],
   "source": [
    "print(total_data.shape,total_data.shape)\n",
    "print(total_data.isnull().sum())\n",
    "print(total_data.isnull().sum())"
   ]
  },
  {
   "cell_type": "code",
   "execution_count": null,
   "metadata": {},
   "outputs": [],
   "source": [
    "X = total_data.replace(np.nan, 'a')"
   ]
  },
  {
   "cell_type": "code",
   "execution_count": null,
   "metadata": {},
   "outputs": [],
   "source": [
    "# total_data['type'] = total_data['type'].replace('international', 1)\n",
    "# total_data['type'] = total_data['type'].replace('local', 0)"
   ]
  },
  {
   "cell_type": "code",
   "execution_count": null,
   "metadata": {},
   "outputs": [],
   "source": [
    "# val_data=total_data.sample(frac=0.2,random_state=200)\n",
    "# total_data=total_data.drop(val_data.index)"
   ]
  },
  {
   "cell_type": "code",
   "execution_count": null,
   "metadata": {},
   "outputs": [],
   "source": [
    "from keras.preprocessing.text import Tokenizer\n",
    "from keras.preprocessing.sequence import pad_sequences\n",
    "from keras.utils import to_categorical"
   ]
  },
  {
   "cell_type": "code",
   "execution_count": null,
   "metadata": {},
   "outputs": [],
   "source": [
    "#Split the data into 50% "
   ]
  },
  {
   "cell_type": "code",
   "execution_count": null,
   "metadata": {
    "scrolled": false
   },
   "outputs": [],
   "source": [
    "# texts = X_train[['name','descrption']]\n",
    "# texts.head(5)"
   ]
  },
  {
   "cell_type": "code",
   "execution_count": null,
   "metadata": {},
   "outputs": [],
   "source": [
    "X = X.name + X.descrption + X.type + X.lvl1 + X.lvl2 + X.lvl3\n",
    "X.replace(regex={'<.*?>|&nbsp|\\W|':' '}, inplace=True)"
   ]
  },
  {
   "cell_type": "code",
   "execution_count": null,
   "metadata": {},
   "outputs": [],
   "source": [
    "# X[1] = X[1].replace('0','')\n",
    "# X[1] = X[1].replace('1','')\n",
    "# X[1] = X[1].replace('2','')\n",
    "# X[1] = X[1].replace('3','')\n",
    "# X[1] = X[1].replace('4','')\n",
    "# X[1] = X[1].replace('5','')\n",
    "# X[1] = X[1].replace('6','')\n",
    "# X[1] = X[1].replace('7','')\n",
    "# X[1] = X[1].replace('8','')\n",
    "# X[1] = X[1].replace('9','')\n",
    "# X[1] = str(X[1]).replace('<ul>','')\n",
    "# X[1] = X[1].replace('<li>','')\n",
    "# X[1] = X[1].replace('<div>','')\n",
    "\n",
    "# X[1] = X[1].replace('</ul>','')\n",
    "# X[1] = X[1].replace('</li>','')\n",
    "# X[1] = X[1].replace('</div>','')\n",
    "\n",
    "# X[1] = X[1].replace('<','')\n",
    "# X[1] = X[1].replace('<','')\n",
    "# X[1] = X[1].replace('<','')\n",
    "\n",
    "# X[1] = X[1].replace('>','')\n",
    "# X[1] = X[1].replace('>','')\n",
    "# X[1] = X[1].replace('>','')\n",
    "\n",
    "# X[1] = X[1].replace('%','')\n",
    "# X[1] = X[1].replace(':','')\n",
    "# X[1] = X[1].replace(',','')\n",
    "# X[1] = X[1].replace('.','')\n",
    "# X[1] = X[1].replace('/','')\n",
    "# X[1] = X[1].replace('&','')\n",
    "# X[1] = X[1].replace(';','')\n",
    "# X[1] = X[1].replace('\"','')\n",
    "\n",
    "# X[1] = X[1].replace('$','')\n",
    "# X[1] = X[1].replace('+','')\n",
    "# X[1] = X[1].replace('=','')\n",
    "# X[1] = X[1].replace('~','')"
   ]
  },
  {
   "cell_type": "code",
   "execution_count": null,
   "metadata": {},
   "outputs": [],
   "source": [
    "# X[2] = X[2].replace('0','')\n",
    "# X[2] = X[2].replace('1','')\n",
    "# X[2] = X[2].replace('2','')\n",
    "# X[2] = X[2].replace('3','')\n",
    "# X[2] = X[2].replace('4','')\n",
    "# X[2] = X[2].replace('5','')\n",
    "# X[2] = X[2].replace('6','')\n",
    "# X[2] = X[2].replace('7','')\n",
    "# X[2] = X[2].replace('8','')\n",
    "# X[2] = X[2].replace('9','')\n",
    "\n",
    "# X[2] = X[2].replace('<ul>','')\n",
    "# X[2] = X[2].replace('<li>','')\n",
    "# X[2] = X[2].replace('<div>','')\n",
    "\n",
    "# X[2] = X[2].replace('</ul>','')\n",
    "# X[2] = X[2].replace('</li>','')\n",
    "# X[2] = X[2].replace('</div>','')\n",
    "\n",
    "# X[2] = X[2].replace('<','')\n",
    "# X[2] = X[2].replace('<','')\n",
    "# X[2] = X[2].replace('<','')\n",
    "\n",
    "# X[2] = X[2].replace('>','')\n",
    "# X[2] = X[2].replace('>','')\n",
    "# X[2] = X[2].replace('>','')\n",
    "\n",
    "# X[2] = X[2].replace('%','')\n",
    "# X[2] = X[2].replace(':','')\n",
    "# X[2] = X[2].replace(',','')\n",
    "# X[2] = X[2].replace('.','')\n",
    "# X[2] = X[2].replace('/','')\n",
    "# X[2] = X[2].replace('&','')\n",
    "# X[2] = X[2].replace(';','')\n",
    "# X[2] = X[2].replace('\"','')\n",
    "\n",
    "# X[2] = X[2].replace('$','')\n",
    "# X[2] = X[2].replace('+','')\n",
    "# X[2] = X[2].replace('=','')\n",
    "# X[2] = X[2].replace('~','')\n",
    "# # X[2] = X[2].replace('\\',' ')\n",
    "\n",
    "# # X = X.name + X.descrption\n",
    "# # X = X.str.lower()\n",
    "X1 = str(X)\n",
    "# X2 = pd.DataFrame(X1)\n",
    "X1"
   ]
  },
  {
   "cell_type": "code",
   "execution_count": null,
   "metadata": {},
   "outputs": [],
   "source": [
    "# from numpy import array\n",
    "# from numpy import argmax\n",
    "# from sklearn.preprocessing import LabelEncoder\n",
    "# from sklearn.preprocessing import OneHotEncoder\n",
    "\n",
    "# # integer encode\n",
    "# label_encoder = LabelEncoder()\n",
    "# integer_encoded = label_encoder.fit_transform(X)\n",
    "# # print(integer_encoded)\n",
    "\n",
    "# # binary encode\n",
    "# onehot_encoder = OneHotEncoder(sparse=False)\n",
    "# integer_encoded = integer_encoded.reshape(len(integer_encoded), 1)\n",
    "# onehot_encoded = onehot_encoder.fit_transform(integer_encoded)\n",
    "# onehot_encoded = pd.DataFrame(onehot_encoded)\n"
   ]
  },
  {
   "cell_type": "code",
   "execution_count": null,
   "metadata": {
    "scrolled": true
   },
   "outputs": [],
   "source": [
    "# integer_encoded = pd.DataFrame(integer_encoded)\n",
    "# integer_encoded = pd.get_dummies(integer_encoded)"
   ]
  },
  {
   "cell_type": "code",
   "execution_count": null,
   "metadata": {},
   "outputs": [],
   "source": [
    "NUM_WORDS=200000\n",
    "tokenizer = Tokenizer(num_words=NUM_WORDS,filters='!\"#$%&()*+,-./:;<=>?@[\\\\]^_`{|}~\\t\\n\\'',\n",
    "                      lower=False)\n",
    "tokenizer.fit_on_texts(X1)\n",
    "sequences_train = tokenizer.texts_to_sequences(X1)\n",
    "# sequences_valid=tokenizer.texts_to_sequences(val_data.name)\n",
    "word_index = tokenizer.word_index\n",
    "print('Found %s unique tokens.' % len(word_index))"
   ]
  },
  {
   "cell_type": "code",
   "execution_count": null,
   "metadata": {},
   "outputs": [],
   "source": [
    "from sklearn.model_selection import train_test_split\n",
    "X_train, X_test = train_test_split( integer_encoded, test_size = 0.5)"
   ]
  },
  {
   "cell_type": "code",
   "execution_count": null,
   "metadata": {},
   "outputs": [],
   "source": [
    "X_train = pad_sequences(sequences_train, maxlen=6)\n",
    "# X_val = pad_sequences(sequences_valid,maxlen=X_train.shape[1])\n",
    "y_train = pad_sequences(sequences_train, maxlen=6)\n",
    "# y_train = to_categorical(np.asarray(train_labels[X_train['id']]))\n",
    "# y_val = to_categorical(np.asarray(train_labels[val_data['id']]))\n",
    "\n",
    "print('Shape of X train and X validation tensor:', X_train.shape)#,X_val.shape)\n",
    "print('Shape of label train and y validation tensor:', y_train.shape)#,y_val.shape)"
   ]
  },
  {
   "cell_type": "code",
   "execution_count": null,
   "metadata": {},
   "outputs": [],
   "source": [
    "y_train"
   ]
  },
  {
   "cell_type": "code",
   "execution_count": null,
   "metadata": {},
   "outputs": [],
   "source": [
    "import gensim\n",
    "from gensim.models import Word2Vec\n",
    "from gensim.utils import simple_preprocess\n",
    "\n",
    "from gensim.models.keyedvectors import KeyedVectors\n",
    "\n",
    "word_vectors = KeyedVectors.load_word2vec_format('/Users/eashan22/Desktop/DataMining/FinalProject/Dataset/GoogleNews-vectors-negative300.bin', binary=True)\n",
    "\n",
    "EMBEDDING_DIM=300\n",
    "vocabulary_size=min(len(word_index)+1,NUM_WORDS)\n",
    "embedding_matrix = np.zeros((vocabulary_size, EMBEDDING_DIM))\n",
    "for word, i in word_index.items():\n",
    "    if i>=NUM_WORDS:\n",
    "        continue\n",
    "    try:\n",
    "        embedding_vector = word_vectors[word]\n",
    "        embedding_matrix[i] = embedding_vector\n",
    "    except KeyError:\n",
    "        embedding_matrix[i]=np.random.normal(0,np.sqrt(0.25),EMBEDDING_DIM)\n",
    "\n",
    "del(word_vectors)\n",
    "\n",
    "from keras.layers import Embedding\n",
    "embedding_layer = Embedding(vocabulary_size,\n",
    "                            EMBEDDING_DIM,\n",
    "                            weights=[embedding_matrix],\n",
    "                            trainable=True)"
   ]
  },
  {
   "cell_type": "code",
   "execution_count": null,
   "metadata": {},
   "outputs": [],
   "source": [
    "from keras.layers import Embedding\n",
    "EMBEDDING_DIM=300\n",
    "vocabulary_size=min(len(word_index)+1,NUM_WORDS)\n",
    "\n",
    "embedding_layer = Embedding(vocabulary_size,\n",
    "                            EMBEDDING_DIM)"
   ]
  },
  {
   "cell_type": "code",
   "execution_count": null,
   "metadata": {},
   "outputs": [],
   "source": [
    "from keras.layers import Dense, Input, GlobalMaxPooling1D\n",
    "from keras.layers import Conv1D, MaxPooling1D, Embedding\n",
    "from keras.models import Model\n",
    "from keras.layers import Input, Dense, Embedding, Conv2D, MaxPooling2D, Dropout,concatenate\n",
    "from keras.layers.core import Reshape, Flatten\n",
    "from keras.callbacks import EarlyStopping\n",
    "from keras.optimizers import Adam\n",
    "from keras.models import Model\n",
    "from keras import regularizers\n",
    "sequence_length = X_train.shape[1]\n",
    "filter_sizes = [3,4,5]\n",
    "num_filters = 100\n",
    "drop = 0.5\n",
    "\n",
    "inputs = Input(shape=(sequence_length,))\n",
    "embedding = embedding_layer(inputs)\n",
    "reshape = Reshape((sequence_length,EMBEDDING_DIM,1))(embedding)\n",
    "\n",
    "conv_0 = Conv2D(num_filters, (filter_sizes[0], EMBEDDING_DIM),activation='relu',kernel_regularizer=regularizers.l2(0.01))(reshape)\n",
    "conv_1 = Conv2D(num_filters, (filter_sizes[1], EMBEDDING_DIM),activation='relu',kernel_regularizer=regularizers.l2(0.01))(reshape)\n",
    "conv_2 = Conv2D(num_filters, (filter_sizes[2], EMBEDDING_DIM),activation='relu',kernel_regularizer=regularizers.l2(0.01))(reshape)\n",
    "\n",
    "maxpool_0 = MaxPooling2D((sequence_length - filter_sizes[0] + 1, 1), strides=(1,1))(conv_0)\n",
    "maxpool_1 = MaxPooling2D((sequence_length - filter_sizes[1] + 1, 1), strides=(1,1))(conv_1)\n",
    "maxpool_2 = MaxPooling2D((sequence_length - filter_sizes[2] + 1, 1), strides=(1,1))(conv_2)\n",
    "\n",
    "merged_tensor = concatenate([maxpool_0, maxpool_1, maxpool_2], axis=1)\n",
    "flatten = Flatten()(merged_tensor)\n",
    "reshape = Reshape((3*num_filters,))(flatten)\n",
    "dropout = Dropout(drop)(flatten)\n",
    "output = Dense(units=6, activation='softmax',kernel_regularizer=regularizers.l2(0.01))(dropout)\n",
    "\n",
    "# this creates a model that includes\n",
    "model = Model(inputs, output)"
   ]
  },
  {
   "cell_type": "code",
   "execution_count": null,
   "metadata": {},
   "outputs": [],
   "source": [
    "adam = Adam(lr=1e-3)\n",
    "\n",
    "model.compile(loss='categorical_crossentropy',\n",
    "              optimizer=adam,\n",
    "              metrics=['acc'])\n",
    "#callbacks = [EarlyStopping(monitor='val_loss')]\n",
    "model.fit(X_train, y_train, batch_size=50, epochs=30, verbose=1)#, callbacks=callbacks)  # starts training"
   ]
  },
  {
   "cell_type": "code",
   "execution_count": null,
   "metadata": {},
   "outputs": [],
   "source": [
    "sequences_test=tokenizer.texts_to_sequences(test_data.name)\n",
    "X_test = pad_sequences(sequences_test,maxlen=X_train.shape[1])\n",
    "y_pred = model.predict(X_test)"
   ]
  },
  {
   "cell_type": "code",
   "execution_count": null,
   "metadata": {},
   "outputs": [],
   "source": [
    "y_pred.shape"
   ]
  },
  {
   "cell_type": "code",
   "execution_count": null,
   "metadata": {},
   "outputs": [],
   "source": [
    "to_submit = pd.DataFrame(index=test_data.id,data=y_pred)\n",
    "# to_submit = to_submit.drop([x for x in range(0,5)], axis=1)\n",
    "# to_submit = to_submit.rename(columns={5:'score'})\n",
    "to_submit.index.rename('id', inplace=True)\n",
    "to_submit"
   ]
  },
  {
   "cell_type": "markdown",
   "metadata": {},
   "source": [
    "### I want to pass this \"to_submit\" output to the classifier below, to get the output as in submission.csv file."
   ]
  },
  {
   "cell_type": "code",
   "execution_count": null,
   "metadata": {},
   "outputs": [],
   "source": [
    "from sklearn.ensemble import RandomForestRegressor\n",
    "clf_RF = RandomForestRegressor(n_estimators = 100, oob_score =True, n_jobs = -1,random_state =10,\n",
    "                                max_features = \"auto\", min_samples_leaf = 50)\n",
    "clf_RF.fit(to_submit, y_train1)\n",
    "y_pred = clf_RF.predict(X_test)\n",
    "y_pred = (y_pred - y_pred .min()) / (y_pred .max() - y_pred .min())\n",
    "y_pred = pd.Series(y_pred, name='score')"
   ]
  },
  {
   "cell_type": "code",
   "execution_count": null,
   "metadata": {},
   "outputs": [],
   "source": []
  }
 ],
 "metadata": {
  "kernelspec": {
   "display_name": "Python 3",
   "language": "python",
   "name": "python3"
  },
  "language_info": {
   "codemirror_mode": {
    "name": "ipython",
    "version": 3
   },
   "file_extension": ".py",
   "mimetype": "text/x-python",
   "name": "python",
   "nbconvert_exporter": "python",
   "pygments_lexer": "ipython3",
   "version": "3.6.7"
  }
 },
 "nbformat": 4,
 "nbformat_minor": 2
}
